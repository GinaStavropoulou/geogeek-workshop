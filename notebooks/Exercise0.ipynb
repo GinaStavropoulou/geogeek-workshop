{
 "cells": [
  {
   "cell_type": "markdown",
   "id": "1840221b-e31a-4baa-98ed-f3f3e70e6d4e",
   "metadata": {},
   "source": [
    "How to recognize/open\n",
    "\n",
    "choose kernel/python\n",
    "\n",
    "how to run a cell/ tour around what you see\n",
    "\n",
    "how to install libraries within kernel\n",
    "\n",
    "markdown / code integrated\n",
    "\n",
    "state preserving (variables/visual outputs)\n",
    "\n",
    "use for reporting - extra markdown.\n",
    "\n"
   ]
  },
  {
   "cell_type": "code",
   "execution_count": null,
   "id": "fbd54736-19e7-469d-85d7-c89c6f3490ce",
   "metadata": {},
   "outputs": [],
   "source": []
  }
 ],
 "metadata": {
  "kernelspec": {
   "display_name": "Python [conda env:geo_env]",
   "language": "python",
   "name": "conda-env-geo_env-py"
  },
  "language_info": {
   "codemirror_mode": {
    "name": "ipython",
    "version": 3
   },
   "file_extension": ".py",
   "mimetype": "text/x-python",
   "name": "python",
   "nbconvert_exporter": "python",
   "pygments_lexer": "ipython3",
   "version": "3.10.4"
  }
 },
 "nbformat": 4,
 "nbformat_minor": 5
}
