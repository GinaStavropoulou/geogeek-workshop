{
 "cells": [
  {
   "cell_type": "markdown",
   "id": "b037fd48-7a5d-43ea-a25b-2435aed8d413",
   "metadata": {},
   "source": [
    "# The following cell is a code cell. \n",
    "### You can run it by clicking in it and pressing SHIFT & ENTER or by pressing the ![ ](../data/raw_data/play.png) button."
   ]
  },
  {
   "cell_type": "code",
   "execution_count": null,
   "id": "3db35a46-06a1-4dc4-a188-e80388be2e3c",
   "metadata": {},
   "outputs": [],
   "source": [
    "print(\"Hello World!\")"
   ]
  },
  {
   "cell_type": "markdown",
   "id": "d6f60f57-de67-49a6-8a84-9e63f69c80a2",
   "metadata": {},
   "source": [
    "# This is a Markdown cell.\n",
    "### You can use Markdown to document your code and add further analysis. You can change the mode of a cell at the drop down list in the header. As you learned yesterday, with Markdown you can:\n",
    "\n",
    "### Make lists\n",
    "1. First came the egg:\n",
    "    - Then I did this\n",
    "    - Then this\n",
    "    - And a little of this, too!\n",
    "2. And then the chicken came along\n",
    "   \n",
    "### Format text:\n",
    "\n",
    "I just love **bold text**.\n",
    "\n",
    "\n",
    "I just love __bold text__.\n",
    "\n",
    "Life is more fun in *italics*\n",
    "\n",
    "Life is more fun in _italics_\n",
    "\n",
    "Even more if we combine __bold__ and _italics_: ___GROOVY___\n",
    "\n",
    "### Put text in quotes:\n",
    "\n",
    "> Dorothy followed her through many of the beautiful rooms in her castle.\n",
    ">\n",
    "> What a great quote!\n",
    "\n",
    "\n",
    "### Add blocks of code:\n",
    "\n",
    "`print(\"Hello World!\")`"
   ]
  },
  {
   "cell_type": "markdown",
   "id": "f98988c6-5d9e-4df3-9e30-7b83228086d6",
   "metadata": {
    "tags": []
   },
   "source": [
    "# Using the markdown headers you can order your code and divide it into sections"
   ]
  },
  {
   "cell_type": "markdown",
   "id": "3be24cc6-6d61-44d1-ba42-0f002cabb6d2",
   "metadata": {
    "tags": []
   },
   "source": [
    "## Sub-Heading"
   ]
  },
  {
   "cell_type": "code",
   "execution_count": null,
   "id": "3c4fe9b5-de2a-4de3-afec-0c52d8fe739b",
   "metadata": {},
   "outputs": [],
   "source": [
    "# If you have code in this section you can collapse the entire section, hiding all markdown and code cells\n",
    "print(\"Sub-Heading code\")"
   ]
  },
  {
   "cell_type": "markdown",
   "id": "6375c550-ddfb-4ee2-aed7-653897d964dd",
   "metadata": {},
   "source": [
    "### Sub-sub Heading"
   ]
  },
  {
   "cell_type": "markdown",
   "id": "4c5d496c-2819-4b05-a7ae-4b32d274057e",
   "metadata": {},
   "source": [
    "#### Sub-sub-sub Heading"
   ]
  },
  {
   "cell_type": "code",
   "execution_count": null,
   "id": "e59cff28-ac37-4edd-bac9-6dc0901d2a39",
   "metadata": {},
   "outputs": [],
   "source": [
    "# If you have code in this section you can collapse the entire section, hiding all markdown and code cells\n",
    "print(\"Sub-sub-sub Heading code\")"
   ]
  },
  {
   "cell_type": "markdown",
   "id": "a288d812-ba4e-4d30-8eed-c9fe7fade39a",
   "metadata": {},
   "source": [
    "# Adding Images"
   ]
  },
  {
   "attachments": {},
   "cell_type": "markdown",
   "id": "c805ab36-457b-42e7-b4e1-d93cd56107d9",
   "metadata": {},
   "source": [
    "You can add  any kind of image to your cells! And you can either copy them directly to the cell:"
   ]
  },
  {
   "cell_type": "markdown",
   "id": "2bfbd424-c988-4a5f-87d4-9a84e7e77e99",
   "metadata": {},
   "source": [
    "...or reference the files:\n",
    "\n",
    "![Stay Funky](../data/raw_data/clark-van-der-beken-Go6BN6FTEJo-unsplash.jpg)\n"
   ]
  },
  {
   "cell_type": "markdown",
   "id": "edc72274-a26d-4336-950f-9682b354c2aa",
   "metadata": {},
   "source": [
    "# Cells can be moved around or be collapsed. \n",
    "### Important: If you change something but the cell has not been run again, the state is not preserved."
   ]
  },
  {
   "cell_type": "code",
   "execution_count": null,
   "id": "3ac1ee93-0072-4ffa-9799-261bbabccd08",
   "metadata": {},
   "outputs": [],
   "source": [
    "a = 40"
   ]
  },
  {
   "cell_type": "code",
   "execution_count": null,
   "id": "fcbb80d8-5c79-4b8c-8477-f3e7d2f79dfe",
   "metadata": {},
   "outputs": [],
   "source": [
    "b = 10\n",
    "\n",
    "\n",
    "\n",
    "\n",
    "\n",
    "c = 50"
   ]
  },
  {
   "cell_type": "code",
   "execution_count": null,
   "id": "5fdcd215-63a0-4038-8dd5-df1ab8fb6630",
   "metadata": {},
   "outputs": [],
   "source": [
    "print(a+b+c)"
   ]
  },
  {
   "cell_type": "markdown",
   "id": "4f05f544-8ceb-4806-a61e-a716e9938afa",
   "metadata": {},
   "source": [
    "# You can see the output, plot an image or a graph directly"
   ]
  },
  {
   "cell_type": "code",
   "execution_count": null,
   "id": "1b37b2cd-9319-4107-90cf-449f6b22d124",
   "metadata": {},
   "outputs": [],
   "source": [
    "import matplotlib.pyplot as plt\n",
    "import numpy as np\n",
    "x = np.random.random(100)\n",
    "y = np.random.random(100)\n",
    "\n",
    "x"
   ]
  },
  {
   "cell_type": "code",
   "execution_count": null,
   "id": "b6e31adb-a183-47dc-89c6-05af1caa54b5",
   "metadata": {},
   "outputs": [],
   "source": [
    "plt.scatter(x, y, c='r', s=10)"
   ]
  },
  {
   "cell_type": "code",
   "execution_count": null,
   "id": "e316d7dc-22c9-42f4-8e7b-c4859e4273e9",
   "metadata": {},
   "outputs": [],
   "source": [
    "import skimage\n",
    "im = skimage.io.imread('../data/raw_data/test.jpg')\n",
    "plt.imshow(im)"
   ]
  },
  {
   "cell_type": "markdown",
   "id": "b9f97f5e-1613-42dc-8c64-8b831e592dd1",
   "metadata": {},
   "source": [
    "# Run bash commands with an exclamation mark. \n",
    "### This is useful for permanently installing python modules to your environment."
   ]
  },
  {
   "cell_type": "code",
   "execution_count": null,
   "id": "6dc7f52f-eacf-41c2-9ce4-d1b56097d268",
   "metadata": {},
   "outputs": [],
   "source": [
    "# List all the files in the current directory\n",
    "! ls"
   ]
  },
  {
   "cell_type": "code",
   "execution_count": null,
   "id": "cbaa5f16-a521-4bad-8299-9fd8b23e393a",
   "metadata": {},
   "outputs": [],
   "source": [
    "# !conda install requests \n",
    "!pip install requests  "
   ]
  },
  {
   "cell_type": "markdown",
   "id": "8d63d5c3-c734-4311-a2a7-7d12b665e85e",
   "metadata": {},
   "source": [
    "# Check info about a variable of a function with a question mark"
   ]
  },
  {
   "cell_type": "code",
   "execution_count": null,
   "id": "bdf76fc8-c248-46b1-afd9-4c656d81dacb",
   "metadata": {},
   "outputs": [],
   "source": [
    "?np.array"
   ]
  },
  {
   "cell_type": "markdown",
   "id": "5d7b9cd1-e809-4b13-93c4-10f1ddf399cc",
   "metadata": {},
   "source": [
    "# You can clear the output of an individual cell or the outputs of all cells|"
   ]
  },
  {
   "cell_type": "code",
   "execution_count": null,
   "id": "d984a3b9-8673-4ef9-8e7c-e2798cc48d0b",
   "metadata": {},
   "outputs": [],
   "source": [
    "a = 10\n",
    "a"
   ]
  }
 ],
 "metadata": {
  "kernelspec": {
   "display_name": "Python 3 (ipykernel)",
   "language": "python",
   "name": "python3"
  },
  "language_info": {
   "codemirror_mode": {
    "name": "ipython",
    "version": 3
   },
   "file_extension": ".py",
   "mimetype": "text/x-python",
   "name": "python",
   "nbconvert_exporter": "python",
   "pygments_lexer": "ipython3",
   "version": "3.11.1"
  }
 },
 "nbformat": 4,
 "nbformat_minor": 5
}
