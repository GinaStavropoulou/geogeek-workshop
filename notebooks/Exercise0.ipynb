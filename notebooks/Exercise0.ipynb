{
 "cells": [
  {
   "cell_type": "markdown",
   "id": "2f93e28e-c023-4230-aea2-1a6e73c04f76",
   "metadata": {},
   "source": [
    "# Let's learn how to work with notebooks.\n",
    "\n",
    "Jupyter notebooks are an efficient way of developing your code. Perfect for analysing and visualising your data!\n",
    "\n",
    "Languages: Python2, Pythong3, Julia, Scala, C++ and many more (https://github.com/jupyter/jupyter/wiki/Jupyter-kernels)\n",
    "\n",
    "Alternatives: Google Colab, Deepnote, Kaggle etc\n",
    "\n",
    "Here we are working with Jupyter Lab which is an  web-based, interactive development environment that includes Jupyter notebooks\n",
    "\n",
    "The notebooks can be recognised by the suffix .ipynb"
   ]
  },
  {
   "cell_type": "markdown",
   "id": "b037fd48-7a5d-43ea-a25b-2435aed8d413",
   "metadata": {},
   "source": [
    "# Code cells\n",
    "The following cell is a code cell. You can run it by clicking in it and pressing SHIFT & ENTER or by pressing the ![ ](../data/raw_data/play.png) button."
   ]
  },
  {
   "cell_type": "code",
   "execution_count": null,
   "id": "3db35a46-06a1-4dc4-a188-e80388be2e3c",
   "metadata": {},
   "outputs": [],
   "source": [
    "print(\"Hello World!\")"
   ]
  },
  {
   "cell_type": "markdown",
   "id": "c8619ccb-0265-470a-8f17-52fa08b7cbef",
   "metadata": {},
   "source": [
    "# Markdown cell\n",
    "You can use Markdown to document your code and add further analysis. You can change the mode of a cell at the drop down list in the header or ESC + \"y\"(code) or \"m\"(markdown). As you learned yesterday, with Markdown you can:\n",
    "\n",
    "### Make lists\n",
    "1. First came the egg:\n",
    "    - Then I did this\n",
    "    - Then this\n",
    "    - And a little of this, too!\n",
    "2. And then the chicken came along\n",
    "   \n",
    "### Format text:\n",
    "\n",
    "I just love **bold text**.\n",
    "\n",
    "\n",
    "I just love __bold text__.\n",
    "\n",
    "Life is more fun in *italics*\n",
    "\n",
    "Life is more fun in _italics_\n",
    "\n",
    "Even more if we combine __bold__ and _italics_: ___GROOVY___\n",
    "\n",
    "### Put text in quotes:\n",
    "\n",
    "> Dorothy followed her through many of the beautiful rooms in her castle.\n",
    ">\n",
    "> What a great quote!\n",
    "\n",
    "\n",
    "### Add blocks of code:\n",
    "\n",
    "`print(\"Hello World!\")`"
   ]
  },
  {
   "attachments": {},
   "cell_type": "markdown",
   "id": "6f125dd8-343e-42fe-8dc2-ab9c4a6206d3",
   "metadata": {
    "tags": []
   },
   "source": [
    "# Markdown headers:\n",
    "you can order your code and divide it into sections\n",
    "\n",
    "## Sub-Heading"
   ]
  },
  {
   "cell_type": "code",
   "execution_count": null,
   "id": "3c4fe9b5-de2a-4de3-afec-0c52d8fe739b",
   "metadata": {},
   "outputs": [],
   "source": [
    "# If you have code in this section you can collapse the entire section, hiding all markdown and code cells\n",
    "print(\"Sub-Heading code\")"
   ]
  },
  {
   "cell_type": "markdown",
   "id": "6375c550-ddfb-4ee2-aed7-653897d964dd",
   "metadata": {},
   "source": [
    "### Sub-sub Heading"
   ]
  },
  {
   "cell_type": "markdown",
   "id": "4c5d496c-2819-4b05-a7ae-4b32d274057e",
   "metadata": {},
   "source": [
    "#### Sub-sub-sub Heading"
   ]
  },
  {
   "cell_type": "code",
   "execution_count": null,
   "id": "e59cff28-ac37-4edd-bac9-6dc0901d2a39",
   "metadata": {},
   "outputs": [],
   "source": [
    "# If you have code in this section you can collapse the entire section, hiding all markdown and code cells\n",
    "print(\"Sub-sub-sub Heading code\")"
   ]
  },
  {
   "cell_type": "markdown",
   "id": "a288d812-ba4e-4d30-8eed-c9fe7fade39a",
   "metadata": {},
   "source": [
    "# Adding Images"
   ]
  },
  {
   "attachments": {},
   "cell_type": "markdown",
   "id": "c805ab36-457b-42e7-b4e1-d93cd56107d9",
   "metadata": {},
   "source": [
    "You can add  any kind of image to your cells! And you can either copy them directly to the cell:"
   ]
  },
  {
   "cell_type": "markdown",
   "id": "2bfbd424-c988-4a5f-87d4-9a84e7e77e99",
   "metadata": {},
   "source": [
    "...or reference the files:\n",
    "\n",
    "![Stay Funky](../data/raw_data/clark-van-der-beken-Go6BN6FTEJo-unsplash.jpg)\n"
   ]
  },
  {
   "cell_type": "markdown",
   "id": "edc72274-a26d-4336-950f-9682b354c2aa",
   "metadata": {},
   "source": [
    "# Cells can be moved around or be collapsed. \n",
    "**Important**: If you change something but the cell has not been run again, the state is not updated."
   ]
  },
  {
   "cell_type": "code",
   "execution_count": null,
   "id": "fcbb80d8-5c79-4b8c-8477-f3e7d2f79dfe",
   "metadata": {},
   "outputs": [],
   "source": [
    "b = 10\n",
    "\n",
    "\n",
    "\n",
    "\n",
    "\n",
    "c = 50"
   ]
  },
  {
   "cell_type": "code",
   "execution_count": null,
   "id": "3ac1ee93-0072-4ffa-9799-261bbabccd08",
   "metadata": {},
   "outputs": [],
   "source": [
    "a = 40"
   ]
  },
  {
   "cell_type": "code",
   "execution_count": null,
   "id": "5fdcd215-63a0-4038-8dd5-df1ab8fb6630",
   "metadata": {},
   "outputs": [],
   "source": [
    "print(a+b+c)"
   ]
  },
  {
   "cell_type": "markdown",
   "id": "8a3559a8-10a4-4a0b-8af0-25d9c51d0541",
   "metadata": {},
   "source": [
    "# You don't need to re-run time-consuming or computationaly intensive code\n",
    "When a cell is run once, its state is preserved. Then you can use the variable created in this cell in subsequent cells without a problem"
   ]
  },
  {
   "cell_type": "code",
   "execution_count": null,
   "id": "1d198729-414b-4742-ab94-13f1b3d3f83e",
   "metadata": {},
   "outputs": [],
   "source": [
    "import rasterio\n",
    "from rasterio.plot import show\n",
    "dataset = rasterio.open(\"/Users/gina/Downloads/R_25GZ1.TIF\")\n",
    "show(dataset, cmap='terrain')"
   ]
  },
  {
   "cell_type": "code",
   "execution_count": null,
   "id": "0fd3d309-32f9-415e-9b14-e55ecd62b77f",
   "metadata": {},
   "outputs": [],
   "source": [
    "dataset.bounds"
   ]
  },
  {
   "cell_type": "markdown",
   "id": "4f05f544-8ceb-4806-a61e-a716e9938afa",
   "metadata": {},
   "source": [
    "# You can see the output, plot an image or a graph directly"
   ]
  },
  {
   "cell_type": "code",
   "execution_count": null,
   "id": "1b37b2cd-9319-4107-90cf-449f6b22d124",
   "metadata": {},
   "outputs": [],
   "source": [
    "import matplotlib.pyplot as plt\n",
    "import numpy as np\n",
    "x = np.random.random(100)\n",
    "y = np.random.random(100)\n",
    "\n",
    "x"
   ]
  },
  {
   "cell_type": "code",
   "execution_count": null,
   "id": "b6e31adb-a183-47dc-89c6-05af1caa54b5",
   "metadata": {},
   "outputs": [],
   "source": [
    "plt.scatter(x, y, c='r', s=10)"
   ]
  },
  {
   "cell_type": "code",
   "execution_count": null,
   "id": "e316d7dc-22c9-42f4-8e7b-c4859e4273e9",
   "metadata": {},
   "outputs": [],
   "source": [
    "import skimage\n",
    "im = skimage.io.imread('../data/raw_data/test.jpg')\n",
    "plt.imshow(im)"
   ]
  },
  {
   "cell_type": "markdown",
   "id": "b9f97f5e-1613-42dc-8c64-8b831e592dd1",
   "metadata": {},
   "source": [
    "# Run bash commands with an exclamation mark. \n",
    "### This is useful for permanently installing python modules to your environment."
   ]
  },
  {
   "cell_type": "code",
   "execution_count": null,
   "id": "6dc7f52f-eacf-41c2-9ce4-d1b56097d268",
   "metadata": {},
   "outputs": [],
   "source": [
    "# List all the files in the current directory\n",
    "! ls"
   ]
  },
  {
   "cell_type": "code",
   "execution_count": null,
   "id": "cbaa5f16-a521-4bad-8299-9fd8b23e393a",
   "metadata": {},
   "outputs": [],
   "source": [
    "# !conda install requests \n",
    "!pip install requests  "
   ]
  },
  {
   "cell_type": "markdown",
   "id": "8d63d5c3-c734-4311-a2a7-7d12b665e85e",
   "metadata": {},
   "source": [
    "# Check info about a variable of a function with a question mark"
   ]
  },
  {
   "cell_type": "code",
   "execution_count": null,
   "id": "bdf76fc8-c248-46b1-afd9-4c656d81dacb",
   "metadata": {},
   "outputs": [],
   "source": [
    "?np.array"
   ]
  },
  {
   "cell_type": "markdown",
   "id": "5d7b9cd1-e809-4b13-93c4-10f1ddf399cc",
   "metadata": {},
   "source": [
    "# You can clear the output of an individual cell or the outputs of all cells|"
   ]
  },
  {
   "cell_type": "code",
   "execution_count": null,
   "id": "d984a3b9-8673-4ef9-8e7c-e2798cc48d0b",
   "metadata": {},
   "outputs": [],
   "source": [
    "a = 10\n",
    "a"
   ]
  }
 ],
 "metadata": {
  "kernelspec": {
   "display_name": "Python 3 (ipykernel)",
   "language": "python",
   "name": "python3"
  },
  "language_info": {
   "codemirror_mode": {
    "name": "ipython",
    "version": 3
   },
   "file_extension": ".py",
   "mimetype": "text/x-python",
   "name": "python",
   "nbconvert_exporter": "python",
   "pygments_lexer": "ipython3",
   "version": "3.11.1"
  }
 },
 "nbformat": 4,
 "nbformat_minor": 5
}
