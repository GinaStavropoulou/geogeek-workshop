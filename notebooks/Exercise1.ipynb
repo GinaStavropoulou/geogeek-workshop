{
 "cells": [
  {
   "cell_type": "markdown",
   "id": "1a81072d-fd65-4c31-b726-434b4853fbd4",
   "metadata": {},
   "source": [
    "# Let's learn a Numpy!\n",
    "### Numpy is a python library that helps you constract multidimentional arrays. \n",
    "It is faster than lists and it is the backbone of a lot of other modules (including matplotlib, pandas & geopandas)\n",
    "![](https://www.pythontutorial.net/wp-content/uploads/2022/08/what-is-numpy.png)"
   ]
  },
  {
   "cell_type": "markdown",
   "id": "ab2df146-399c-43e9-83d4-5d8e38db556d",
   "metadata": {},
   "source": [
    "# Part 1: Creating Arrays"
   ]
  },
  {
   "cell_type": "markdown",
   "id": "f47abfd1-8b4c-4f56-b578-ff68b1b4eee1",
   "metadata": {},
   "source": [
    "## Import the library and give it an alias"
   ]
  },
  {
   "cell_type": "code",
   "execution_count": null,
   "id": "185412a4-fa4f-4b89-ab6a-7605fe6e179e",
   "metadata": {},
   "outputs": [],
   "source": [
    "import numpy as np"
   ]
  },
  {
   "cell_type": "markdown",
   "id": "0a4c12df-8323-4239-8f21-324c7de81895",
   "metadata": {},
   "source": [
    "## Create 1D, 2D, 3D or N-D arrays:\n",
    "An ndarray is a multidimensional container of items of the same type and size. The number of dimensions and items in an array is defined by its shape, which is a tuple of N non-negative integers that specify the sizes of each dimension."
   ]
  },
  {
   "cell_type": "code",
   "execution_count": null,
   "id": "33f076e5-22e1-4979-aea9-f1987df952b9",
   "metadata": {},
   "outputs": [],
   "source": [
    "a1 = np.array([1,2,3])\n",
    "a1"
   ]
  },
  {
   "cell_type": "code",
   "execution_count": null,
   "id": "3418d815-58bf-42fe-9e5e-f14515789a0a",
   "metadata": {},
   "outputs": [],
   "source": [
    "a2 = np.array([[0,1,2,3], [4,5,6,7],[8,9,10,11]])\n",
    "a2"
   ]
  },
  {
   "cell_type": "code",
   "execution_count": null,
   "id": "ae55ca5e-d4ae-44bd-adf2-542581d51a6c",
   "metadata": {},
   "outputs": [],
   "source": [
    "a3 = np.array([[[1,2,3], [4,5,6],[7,8,9]],[[9,8,7], [6,5,4],[3,2,1]]])\n",
    "a3"
   ]
  },
  {
   "cell_type": "markdown",
   "id": "574d90ef-f163-430b-a28b-5d881d3f48d7",
   "metadata": {},
   "source": [
    "## See the type, number of dimentions, shape, and size of an array:"
   ]
  },
  {
   "cell_type": "code",
   "execution_count": null,
   "id": "f590f487-b123-44f1-a64b-feae4cd2a25f",
   "metadata": {},
   "outputs": [],
   "source": [
    "type(a2) # type of the array"
   ]
  },
  {
   "cell_type": "code",
   "execution_count": null,
   "id": "5c58a8d7-6321-430c-aa15-4199726bfe57",
   "metadata": {},
   "outputs": [],
   "source": [
    "a2.dtype # data type of the array. "
   ]
  },
  {
   "cell_type": "code",
   "execution_count": null,
   "id": "51f83268-66d4-4d54-830d-197b786dc6f8",
   "metadata": {},
   "outputs": [],
   "source": [
    "a2.ndim"
   ]
  },
  {
   "cell_type": "code",
   "execution_count": null,
   "id": "cfb4db29-f14b-48db-ae0b-7536e5dec71d",
   "metadata": {},
   "outputs": [],
   "source": [
    "a2.shape # row-col in 2d arrays"
   ]
  },
  {
   "cell_type": "code",
   "execution_count": null,
   "id": "90503a15-197a-4554-a626-14082f3116e8",
   "metadata": {},
   "outputs": [],
   "source": [
    "a2.size"
   ]
  },
  {
   "cell_type": "markdown",
   "id": "ebe5ef5a-1ba2-4205-9830-71fe940b9458",
   "metadata": {},
   "source": [
    "## Question1 : What shape and size do you expect a1 and a3 to have?"
   ]
  },
  {
   "cell_type": "markdown",
   "id": "81475041-1a87-4c6c-a2f7-f7af04dd4c6a",
   "metadata": {},
   "source": [
    "## Create an 1x3 array with only zeros:"
   ]
  },
  {
   "cell_type": "code",
   "execution_count": null,
   "id": "444eb6aa-662e-49d4-9d5b-3cdd6ab68bfa",
   "metadata": {},
   "outputs": [],
   "source": [
    "a = np.zeros(3)\n",
    "a"
   ]
  },
  {
   "cell_type": "markdown",
   "id": "3829c0a1-ec71-4d85-b474-e0a9bda40d5e",
   "metadata": {},
   "source": [
    "## Create a 3X4 array with only ones:"
   ]
  },
  {
   "cell_type": "code",
   "execution_count": null,
   "id": "2aa1811e-2b2c-43d5-acc8-c12794d91d6a",
   "metadata": {},
   "outputs": [],
   "source": [
    "b = np.ones([3,4])\n",
    "b"
   ]
  },
  {
   "cell_type": "markdown",
   "id": "766343c0-4bf9-4097-bcfd-bd410bd881d0",
   "metadata": {
    "jp-MarkdownHeadingCollapsed": true
   },
   "source": [
    "## Create arrays with random numbers"
   ]
  },
  {
   "cell_type": "code",
   "execution_count": null,
   "id": "791de234-7262-4c11-8fda-43e7574bee52",
   "metadata": {},
   "outputs": [],
   "source": [
    "\n",
    "rand_array = np.random.random([3,2])\n",
    "rand_array"
   ]
  },
  {
   "cell_type": "code",
   "execution_count": null,
   "id": "019a283f-0912-4184-bff8-fc5a16a37b07",
   "metadata": {},
   "outputs": [],
   "source": [
    "randint_array= np.random.randint([3,2])\n",
    "randint_array"
   ]
  },
  {
   "cell_type": "markdown",
   "id": "a7f3ed26-47e6-42f4-ad7a-e3d14ccd16c3",
   "metadata": {},
   "source": [
    "## Reshape an array by changing the shape property (size should be the same)"
   ]
  },
  {
   "cell_type": "code",
   "execution_count": null,
   "id": "ee93aae7-0760-49d0-b80d-f01c2a9b5d47",
   "metadata": {},
   "outputs": [],
   "source": [
    "ar = np.zeros([2,3])\n",
    "ar"
   ]
  },
  {
   "cell_type": "code",
   "execution_count": null,
   "id": "de6598dc-b2fe-451a-be5f-38507219fdce",
   "metadata": {},
   "outputs": [],
   "source": [
    "ar.shape = (1,6)\n",
    "ar"
   ]
  },
  {
   "cell_type": "code",
   "execution_count": null,
   "id": "4a92c73e-decc-452c-b0d6-2689a5eeddae",
   "metadata": {},
   "outputs": [],
   "source": [
    "ar.shape = (3,2)\n",
    "ar"
   ]
  },
  {
   "cell_type": "markdown",
   "id": "f62200b4-3997-45ab-9298-77903818bbaa",
   "metadata": {},
   "source": [
    "## Task 1: Create a 3D array with dimensions 2X4X3"
   ]
  },
  {
   "cell_type": "markdown",
   "id": "6dfc92ce-561d-40c6-9e69-2e3b8665e2b5",
   "metadata": {},
   "source": [
    "## Create a range with a specific number of elements step:"
   ]
  },
  {
   "cell_type": "code",
   "execution_count": null,
   "id": "e9f92ff8-b405-487a-8f00-8a73dd4dac75",
   "metadata": {},
   "outputs": [],
   "source": [
    "import numpy as np\n",
    "# np.linspace(start, end, number of elements)\n",
    "np.linspace(0,20,11, dtype=\"int32\")"
   ]
  },
  {
   "cell_type": "code",
   "execution_count": null,
   "id": "4e037177-5080-4dc2-a4b3-0f87b9ae02ae",
   "metadata": {},
   "outputs": [],
   "source": [
    "np.linspace(1,100,100, dtype=\"int32\")"
   ]
  },
  {
   "cell_type": "markdown",
   "id": "7828ac78-f9d3-433b-9faa-885e0ecd0613",
   "metadata": {},
   "source": [
    "## Indexing and Slicing:"
   ]
  },
  {
   "cell_type": "code",
   "execution_count": null,
   "id": "b3d07523-2606-4c22-a445-bc5ab721dd6a",
   "metadata": {},
   "outputs": [],
   "source": [
    "d = np.array([2,4,6,8,10])\n",
    "print(d[0]) # get the first element\n",
    "print(d[-1]) # get the last element\n",
    "print(d[1:4]) # get elements with index 1 to 4"
   ]
  },
  {
   "cell_type": "markdown",
   "id": "4642f9be-a65f-445b-a796-cbbf316e7f7c",
   "metadata": {
    "jp-MarkdownHeadingCollapsed": true
   },
   "source": [
    "## Question:  What is the difference between (10,1) and (10,)"
   ]
  },
  {
   "cell_type": "code",
   "execution_count": null,
   "id": "54ee05d1-3d4c-483d-96ec-427c90381c4f",
   "metadata": {},
   "outputs": [],
   "source": [
    "d =  np.zeros(10,)\n",
    "d"
   ]
  },
  {
   "cell_type": "code",
   "execution_count": null,
   "id": "7b53001b-fb6a-4e03-b4c7-b6b392c1a6aa",
   "metadata": {},
   "outputs": [],
   "source": [
    "d.size"
   ]
  },
  {
   "cell_type": "code",
   "execution_count": null,
   "id": "722392ff-9817-4df7-b7c7-75296c9b04ed",
   "metadata": {},
   "outputs": [],
   "source": [
    "d.shape = (10,1)"
   ]
  },
  {
   "cell_type": "code",
   "execution_count": null,
   "id": "6e0dc346-41a0-4a92-a21d-9cd2fde3799a",
   "metadata": {},
   "outputs": [],
   "source": [
    "d"
   ]
  },
  {
   "cell_type": "markdown",
   "id": "e13a8015-3208-435a-8b91-ac507bf23880",
   "metadata": {
    "jp-MarkdownHeadingCollapsed": true
   },
   "source": [
    "## Question: What is the difference between np.array([[0,0,0,0]]) and np.array([0,0,0,0]):"
   ]
  },
  {
   "cell_type": "code",
   "execution_count": null,
   "id": "faa67b85-8214-46b8-b957-9ea7b9a59f55",
   "metadata": {},
   "outputs": [],
   "source": [
    "import numpy as np\n",
    "a1 = np.array([[0,0,0,0]])\n",
    "a2 = np.array([0,0,0,0])\n",
    "print(a1)\n",
    "print(a2)"
   ]
  },
  {
   "cell_type": "code",
   "execution_count": null,
   "id": "ea58fc89-340f-4981-b370-db3ed4451ef7",
   "metadata": {},
   "outputs": [],
   "source": [
    "print(a1.shape)\n",
    "print(a2.shape)"
   ]
  },
  {
   "cell_type": "markdown",
   "id": "97e3ea4d-e94d-4192-a092-13d1b55a9316",
   "metadata": {},
   "source": [
    "## Task 2: Create a table 10X2 with random integers, reshape 4X5, to  then slice the 2X2 upper left corner."
   ]
  },
  {
   "cell_type": "markdown",
   "id": "cd0e8b75-275d-412e-b6c8-28e415c5f1dc",
   "metadata": {},
   "source": [
    "# Part 2: Images are also arrays"
   ]
  },
  {
   "cell_type": "markdown",
   "id": "615de653-f7f5-4e2e-a118-913c0e394589",
   "metadata": {},
   "source": [
    "## Task 3:  Import the image from exercise 0 and print its shape. How do you interpret it?"
   ]
  },
  {
   "cell_type": "markdown",
   "id": "7e1f2e87-c4bc-41e9-9acb-67b3de139103",
   "metadata": {},
   "source": [
    "## Task 4: Separate the image to its 3 bands (red, green, blue) and plot them"
   ]
  },
  {
   "cell_type": "markdown",
   "id": "dd28036c-de54-4308-9b35-03be6c633375",
   "metadata": {},
   "source": [
    "# Part 3: Rasterio small introduction"
   ]
  },
  {
   "cell_type": "code",
   "execution_count": null,
   "id": "e6fa8edf-9289-40fe-a463-75886911e269",
   "metadata": {},
   "outputs": [],
   "source": [
    "import rasterio\n",
    "from rasterio.plot import show\n",
    "dataset = rasterio.open(\"/Users/gina/Downloads/R_25GZ1.TIF\")\n",
    "show(dataset, cmap='terrain')"
   ]
  },
  {
   "cell_type": "code",
   "execution_count": null,
   "id": "7a937fe0-4074-4e8a-a46d-46d4b1abf4a8",
   "metadata": {},
   "outputs": [],
   "source": [
    "dataset.bounds"
   ]
  },
  {
   "cell_type": "code",
   "execution_count": null,
   "id": "53d28f68-bdd9-45fd-b609-2deb596975b3",
   "metadata": {},
   "outputs": [],
   "source": [
    "dataset.width"
   ]
  },
  {
   "cell_type": "code",
   "execution_count": null,
   "id": "434f97a8-5b9c-46e2-9196-f8df704d13f6",
   "metadata": {},
   "outputs": [],
   "source": [
    "dataset.height"
   ]
  },
  {
   "cell_type": "code",
   "execution_count": null,
   "id": "aac2ea36-c0e2-4ade-914e-e1a42c7d0289",
   "metadata": {},
   "outputs": [],
   "source": [
    "dataset.shape"
   ]
  },
  {
   "cell_type": "code",
   "execution_count": null,
   "id": "888f377c-b5a9-49fd-ac43-7818c64b19bf",
   "metadata": {},
   "outputs": [],
   "source": [
    "dataset.crs"
   ]
  },
  {
   "cell_type": "markdown",
   "id": "94487be5-4a91-472b-bfda-e4da82a07187",
   "metadata": {},
   "source": [
    "## How to convert from one crs to another. "
   ]
  },
  {
   "cell_type": "code",
   "execution_count": null,
   "id": "8a4f5e6f-7918-4ad6-a9d0-1ac882ad66b2",
   "metadata": {},
   "outputs": [],
   "source": [
    "from rasterio.crs import CRS\n",
    "from rasterio.warp import reproject"
   ]
  },
  {
   "cell_type": "code",
   "execution_count": null,
   "id": "d73cf47f-5330-4f2d-aebf-c4ca742036ce",
   "metadata": {},
   "outputs": [],
   "source": [
    "destination = np.zeros(dataset.shape, np.uint8)\n",
    "resprojected = rasterio.warp.reproject (rasterio.band(dataset, 1), \n",
    "                                        destination,\n",
    "                                        src_crs = dataset.crs, \n",
    "                                        dst_crs= CRS.from_epsg(4326))"
   ]
  },
  {
   "cell_type": "code",
   "execution_count": null,
   "id": "fdd2521b-681a-4163-b50d-ca5be3a1fcd7",
   "metadata": {},
   "outputs": [],
   "source": [
    "from rasterio.plot import show\n",
    "show(destination, cmap='terrain')"
   ]
  }
 ],
 "metadata": {
  "kernelspec": {
   "display_name": "Python 3 (ipykernel)",
   "language": "python",
   "name": "python3"
  },
  "language_info": {
   "codemirror_mode": {
    "name": "ipython",
    "version": 3
   },
   "file_extension": ".py",
   "mimetype": "text/x-python",
   "name": "python",
   "nbconvert_exporter": "python",
   "pygments_lexer": "ipython3",
   "version": "3.11.1"
  }
 },
 "nbformat": 4,
 "nbformat_minor": 5
}
